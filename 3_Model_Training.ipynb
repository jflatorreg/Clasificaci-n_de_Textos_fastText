{
 "cells": [
  {
   "cell_type": "code",
   "execution_count": 1,
   "id": "1308dd8d",
   "metadata": {},
   "outputs": [],
   "source": [
    "import fasttext as ft"
   ]
  },
  {
   "cell_type": "markdown",
   "id": "2f0911ca",
   "metadata": {},
   "source": [
    "# Model Training"
   ]
  },
  {
   "cell_type": "code",
   "execution_count": 2,
   "id": "31fedf33",
   "metadata": {},
   "outputs": [],
   "source": [
    "model = ft.train_unsupervised('./data_training/data.txt', dim = 600, epoch=10, minCount=2, minn=2, maxn=10)"
   ]
  },
  {
   "cell_type": "code",
   "execution_count": 3,
   "id": "01bfb056",
   "metadata": {},
   "outputs": [],
   "source": [
    "model.save_model(\"./model/model.bin\")"
   ]
  },
  {
   "cell_type": "code",
   "execution_count": null,
   "id": "528d7bcd",
   "metadata": {},
   "outputs": [],
   "source": []
  }
 ],
 "metadata": {
  "kernelspec": {
   "display_name": "Python 3",
   "language": "python",
   "name": "python3"
  },
  "language_info": {
   "codemirror_mode": {
    "name": "ipython",
    "version": 3
   },
   "file_extension": ".py",
   "mimetype": "text/x-python",
   "name": "python",
   "nbconvert_exporter": "python",
   "pygments_lexer": "ipython3",
   "version": "3.8.8"
  }
 },
 "nbformat": 4,
 "nbformat_minor": 5
}
